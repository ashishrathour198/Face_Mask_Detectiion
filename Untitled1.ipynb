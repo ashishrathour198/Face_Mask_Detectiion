{
 "cells": [
  {
   "cell_type": "code",
   "execution_count": 15,
   "id": "07a295af",
   "metadata": {},
   "outputs": [],
   "source": [
    "import os \n",
    "import numpy as np \n",
    "from tensorflow.keras.preprocessing.image import img_to_array, load_img, ImageDataGenerator\n",
    "from tensorflow.keras.applications import MobileNetV2\n",
    "from tensorflow.keras.applications.mobilenet_v2 import preprocess_input\n",
    "from tensorflow.keras.utils import to_categorical\n",
    "from tensorflow.keras.layers import Input, AveragePooling2D, Dropout, Flatten, Dense\n",
    "from tensorflow.keras.models import Model\n",
    "from tensorflow.keras.optimizers import Adam\n",
    "from sklearn.preprocessing import LabelBinarizer\n",
    "from sklearn.model_selection import train_test_split\n",
    "from sklearn.metrics import classification_report\n",
    "import matplotlib.pyplot as plt"
   ]
  },
  {
   "cell_type": "code",
   "execution_count": 2,
   "id": "dbc0aedd",
   "metadata": {},
   "outputs": [],
   "source": [
    "INIT_LR=1e-4\n",
    "EPOCHS=20\n",
    "BS=32\n",
    "DIRECTORY=r\"C:\\Users\\ashis\\Downloads\\face mask detection\\face mask detection\\mask-detector\\dataset\"\n",
    "CATEGORIES=[\"with_mask\",\"without_mask\"]"
   ]
  },
  {
   "cell_type": "code",
   "execution_count": 3,
   "id": "69f185de",
   "metadata": {},
   "outputs": [
    {
     "name": "stderr",
     "output_type": "stream",
     "text": [
      "c:\\users\\ashis\\appdata\\local\\programs\\python\\python37\\lib\\site-packages\\PIL\\Image.py:963: UserWarning: Palette images with Transparency expressed in bytes should be converted to RGBA images\n",
      "  \"Palette images with Transparency expressed in bytes should be \"\n"
     ]
    }
   ],
   "source": [
    "## Loding Dataset\n",
    "\n",
    "data=[]\n",
    "labels=[]\n",
    "\n",
    "for category in CATEGORIES:\n",
    "    path=os.path.join(DIRECTORY,category)\n",
    "    for imgName in os.listdir(path):\n",
    "        imgPath=os.path.join(path,imgName)\n",
    "        img=load_img(imgPath,target_size=(224,224))\n",
    "        img=img_to_array(img)\n",
    "        img=preprocess_input(img)\n",
    "        \n",
    "        data.append(img)\n",
    "        labels.append(category)\n",
    "        \n",
    "lb=LabelBinarizer()\n",
    "labels=lb.fit_transform(labels)\n",
    "labels=to_categorical(labels)\n",
    "\n",
    "data=np.array(data,dtype=\"float32\")\n",
    "labels=np.array(labels)"
   ]
  },
  {
   "cell_type": "code",
   "execution_count": 4,
   "id": "ded7d504",
   "metadata": {},
   "outputs": [
    {
     "name": "stdout",
     "output_type": "stream",
     "text": [
      "WARNING:tensorflow:`input_shape` is undefined or non-square, or `rows` is not in [96, 128, 160, 192, 224]. Weights for input shape (224, 224) will be loaded as the default.\n"
     ]
    }
   ],
   "source": [
    "## Processing Dataset\n",
    "\n",
    "(trainX,testX,trainY,testY)=train_test_split(data,labels,test_size=0.20,stratify=labels,random_state=42)\n",
    "\n",
    "aug=ImageDataGenerator(\n",
    "    rotation_range=20,\n",
    "    zoom_range=0.15,\n",
    "    width_shift_range=0.2,\n",
    "    height_shift_range=0.2,\n",
    "    shear_range=0.15,\n",
    "    horizontal_flip=True,\n",
    "    fill_mode=\"nearest\",\n",
    ")\n",
    "\n",
    "baseModel=MobileNetV2(weights=\"imagenet\",include_top=False,input_tensor=Input(shape=(224,224,3)))\n",
    "\n",
    "headModel=baseModel.output\n",
    "headModel=AveragePooling2D(pool_size=(7,7))(headModel)\n",
    "headModel=Flatten(name=\"flatten\")(headModel)\n",
    "headModel=Dense(128,activation=\"relu\")(headModel)\n",
    "headModel=Dropout(0.5)(headModel)\n",
    "headModel=Dense(2,activation=\"softmax\")(headModel)\n",
    "\n",
    "model=Model(inputs=baseModel.input,outputs=headModel)\n",
    "\n",
    "for layer in baseModel.layers:\n",
    "    layer.trainable=False"
   ]
  },
  {
   "cell_type": "code",
   "execution_count": 5,
   "id": "ca0c74b6",
   "metadata": {},
   "outputs": [],
   "source": [
    "## Compiling Model\n",
    "\n",
    "opt=Adam(learning_rate=INIT_LR,decay=INIT_LR/EPOCHS)\n",
    "model.compile(loss=\"binary_crossentropy\",optimizer=opt,metrics=[\"accuracy\"])"
   ]
  },
  {
   "cell_type": "code",
   "execution_count": 6,
   "id": "77504efb",
   "metadata": {},
   "outputs": [
    {
     "name": "stdout",
     "output_type": "stream",
     "text": [
      "Epoch 1/20\n",
      "95/95 [==============================] - 111s 1s/step - loss: 0.3998 - accuracy: 0.8530 - val_loss: 0.1357 - val_accuracy: 0.9870\n",
      "Epoch 2/20\n",
      "95/95 [==============================] - 106s 1s/step - loss: 0.1489 - accuracy: 0.9654 - val_loss: 0.0733 - val_accuracy: 0.9909\n",
      "Epoch 3/20\n",
      "95/95 [==============================] - 107s 1s/step - loss: 0.0926 - accuracy: 0.9782 - val_loss: 0.0511 - val_accuracy: 0.9922\n",
      "Epoch 4/20\n",
      "95/95 [==============================] - 106s 1s/step - loss: 0.0709 - accuracy: 0.9809 - val_loss: 0.0427 - val_accuracy: 0.9922\n",
      "Epoch 5/20\n",
      "95/95 [==============================] - 104s 1s/step - loss: 0.0667 - accuracy: 0.9799 - val_loss: 0.0368 - val_accuracy: 0.9909\n",
      "Epoch 6/20\n",
      "95/95 [==============================] - 122s 1s/step - loss: 0.0573 - accuracy: 0.9845 - val_loss: 0.0337 - val_accuracy: 0.9922\n",
      "Epoch 7/20\n",
      "95/95 [==============================] - 105s 1s/step - loss: 0.0506 - accuracy: 0.9855 - val_loss: 0.0327 - val_accuracy: 0.9935\n",
      "Epoch 8/20\n",
      "95/95 [==============================] - 103s 1s/step - loss: 0.0430 - accuracy: 0.9871 - val_loss: 0.0293 - val_accuracy: 0.9922\n",
      "Epoch 9/20\n",
      "95/95 [==============================] - 105s 1s/step - loss: 0.0461 - accuracy: 0.9865 - val_loss: 0.0298 - val_accuracy: 0.9922\n",
      "Epoch 10/20\n",
      "95/95 [==============================] - 116s 1s/step - loss: 0.0444 - accuracy: 0.9901 - val_loss: 0.0281 - val_accuracy: 0.9922\n",
      "Epoch 11/20\n",
      "95/95 [==============================] - 111s 1s/step - loss: 0.0331 - accuracy: 0.9895 - val_loss: 0.0270 - val_accuracy: 0.9922\n",
      "Epoch 12/20\n",
      "95/95 [==============================] - 109s 1s/step - loss: 0.0358 - accuracy: 0.9901 - val_loss: 0.0324 - val_accuracy: 0.9935\n",
      "Epoch 13/20\n",
      "95/95 [==============================] - 109s 1s/step - loss: 0.0356 - accuracy: 0.9888 - val_loss: 0.0268 - val_accuracy: 0.9935\n",
      "Epoch 14/20\n",
      "95/95 [==============================] - 109s 1s/step - loss: 0.0269 - accuracy: 0.9927 - val_loss: 0.0276 - val_accuracy: 0.9935\n",
      "Epoch 15/20\n",
      "95/95 [==============================] - 111s 1s/step - loss: 0.0282 - accuracy: 0.9911 - val_loss: 0.0270 - val_accuracy: 0.9935\n",
      "Epoch 16/20\n",
      "95/95 [==============================] - 107s 1s/step - loss: 0.0256 - accuracy: 0.9927 - val_loss: 0.0241 - val_accuracy: 0.9922\n",
      "Epoch 17/20\n",
      "95/95 [==============================] - 114s 1s/step - loss: 0.0354 - accuracy: 0.9904 - val_loss: 0.0258 - val_accuracy: 0.9935\n",
      "Epoch 18/20\n",
      "95/95 [==============================] - 118s 1s/step - loss: 0.0338 - accuracy: 0.9891 - val_loss: 0.0274 - val_accuracy: 0.9935\n",
      "Epoch 19/20\n",
      "95/95 [==============================] - 113s 1s/step - loss: 0.0227 - accuracy: 0.9937 - val_loss: 0.0274 - val_accuracy: 0.9935\n",
      "Epoch 20/20\n",
      "95/95 [==============================] - 125s 1s/step - loss: 0.0228 - accuracy: 0.9924 - val_loss: 0.0240 - val_accuracy: 0.9935\n"
     ]
    }
   ],
   "source": [
    "## Training model\n",
    "\n",
    "H=model.fit(\n",
    "    aug.flow(trainX,trainY,batch_size=BS),\n",
    "    steps_per_epoch=len(trainX)//BS,\n",
    "    validation_data=(testX,testY),\n",
    "    validation_steps=len(testX)//BS,\n",
    "    epochs=EPOCHS\n",
    " )"
   ]
  },
  {
   "cell_type": "code",
   "execution_count": 7,
   "id": "f4481f8b",
   "metadata": {},
   "outputs": [
    {
     "name": "stdout",
     "output_type": "stream",
     "text": [
      "              precision    recall  f1-score   support\n",
      "\n",
      "   with_mask       0.99      0.99      0.99       383\n",
      "without_mask       0.99      0.99      0.99       384\n",
      "\n",
      "    accuracy                           0.99       767\n",
      "   macro avg       0.99      0.99      0.99       767\n",
      "weighted avg       0.99      0.99      0.99       767\n",
      "\n"
     ]
    }
   ],
   "source": [
    "## Evaluation Model\n",
    "predIdxs=model.predict(testX,batch_size=BS)\n",
    "predIdxs=np.argmax(predIdxs,axis=1)\n",
    "print(classification_report(testY.argmax(axis=1),predIdxs,target_names=lb.classes_))"
   ]
  },
  {
   "cell_type": "code",
   "execution_count": 13,
   "id": "3775e399",
   "metadata": {},
   "outputs": [
    {
     "name": "stderr",
     "output_type": "stream",
     "text": [
      "c:\\users\\ashis\\appdata\\local\\programs\\python\\python37\\lib\\site-packages\\tensorflow\\python\\keras\\utils\\generic_utils.py:497: CustomMaskWarning: Custom mask layers require a config and must override get_config. When loading, the custom mask layer must be passed to the custom_objects argument.\n",
      "  category=CustomMaskWarning)\n"
     ]
    }
   ],
   "source": [
    "## Saving Model\n",
    "\n",
    "model.save(\"mask_detector.model\",save_format=\"h5\")"
   ]
  },
  {
   "cell_type": "code",
   "execution_count": 12,
   "id": "56bb0a9f",
   "metadata": {},
   "outputs": [
    {
     "data": {
      "image/png": "[encoded data removed]",
      "text/plain": [
       "<Figure size 432x288 with 1 Axes>"
      ]
     },
     "metadata": {},
     "output_type": "display_data"
    }
   ],
   "source": [
    "## Plotting Graph\n",
    " \n",
    "N=EPOCHS\n",
    "\n",
    "plt.style.use(\"ggplot\")\n",
    "plt.figure()\n",
    "plt.plot(np.arange(0,N),H.history[\"loss\"],label=\"train_loss\")\n",
    "plt.plot(np.arange(0,N),H.history[\"val_loss\"],label=\"val_loss\")\n",
    "plt.plot(np.arange(0,N),H.history[\"accuracy\"],label=\"train_acc\")\n",
    "plt.plot(np.arange(0,N),H.history[\"val_accuracy\"],label=\"val_accuracy\")\n",
    "plt.title('Training Loss And Accuracy')\n",
    "plt.xlabel(\"Epoch #\")\n",
    "plt.ylabel('Loss/Accuracy')\n",
    "plt.legend(loc=\"lower left\")\n",
    "plt.savefig('plot.png')"
   ]
  }
 ],
 "metadata": {
  "kernelspec": {
   "display_name": "Python 3",
   "language": "python",
   "name": "python3"
  },
  "language_info": {
   "codemirror_mode": {
    "name": "ipython",
    "version": 3
   },
   "file_extension": ".py",
   "mimetype": "text/x-python",
   "name": "python",
   "nbconvert_exporter": "python",
   "pygments_lexer": "ipython3",
   "version": "3.7.9"
  }
 },
 "nbformat": 4,
 "nbformat_minor": 5
}
